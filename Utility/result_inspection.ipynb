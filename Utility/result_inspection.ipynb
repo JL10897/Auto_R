{
 "cells": [
  {
   "cell_type": "code",
   "execution_count": 1,
   "metadata": {},
   "outputs": [
    {
     "ename": "TypeError",
     "evalue": "unhashable type: 'dict'",
     "output_type": "error",
     "traceback": [
      "\u001b[0;31m---------------------------------------------------------------------------\u001b[0m",
      "\u001b[0;31mTypeError\u001b[0m                                 Traceback (most recent call last)",
      "Cell \u001b[0;32mIn[1], line 48\u001b[0m\n\u001b[1;32m     45\u001b[0m base_output_dir \u001b[38;5;241m=\u001b[39m \u001b[38;5;124m'\u001b[39m\u001b[38;5;124m/scratch/jl10897/multimodal_image_registration/output\u001b[39m\u001b[38;5;124m'\u001b[39m\n\u001b[1;32m     47\u001b[0m \u001b[38;5;66;03m# Analyze results\u001b[39;00m\n\u001b[0;32m---> 48\u001b[0m results_df \u001b[38;5;241m=\u001b[39m \u001b[43manalyze_results\u001b[49m\u001b[43m(\u001b[49m\u001b[43mbase_output_dir\u001b[49m\u001b[43m)\u001b[49m\n\u001b[1;32m     50\u001b[0m \u001b[38;5;66;03m# Display the results\u001b[39;00m\n\u001b[1;32m     51\u001b[0m \u001b[38;5;28mprint\u001b[39m(results_df)\n",
      "Cell \u001b[0;32mIn[1], line 26\u001b[0m, in \u001b[0;36manalyze_results\u001b[0;34m(base_output_dir)\u001b[0m\n\u001b[1;32m     23\u001b[0m         all_results\u001b[38;5;241m.\u001b[39mappend(result_file)\n\u001b[1;32m     25\u001b[0m \u001b[38;5;28;01mfor\u001b[39;00m result_file \u001b[38;5;129;01min\u001b[39;00m all_results:  \u001b[38;5;66;03m# Changed result_files to all_results\u001b[39;00m\n\u001b[0;32m---> 26\u001b[0m     results \u001b[38;5;241m=\u001b[39m \u001b[43mload_results\u001b[49m\u001b[43m(\u001b[49m\u001b[43mresult_file\u001b[49m\u001b[43m)\u001b[49m\n\u001b[1;32m     27\u001b[0m     num_pairs \u001b[38;5;241m=\u001b[39m results\u001b[38;5;241m.\u001b[39mget(\u001b[38;5;124m'\u001b[39m\u001b[38;5;124mnum_pairs\u001b[39m\u001b[38;5;124m'\u001b[39m, \u001b[38;5;241m0\u001b[39m)\n\u001b[1;32m     28\u001b[0m     transformation_params \u001b[38;5;241m=\u001b[39m results\u001b[38;5;241m.\u001b[39mget(\u001b[38;5;124m'\u001b[39m\u001b[38;5;124mtransformation_params\u001b[39m\u001b[38;5;124m'\u001b[39m, {})\n",
      "Cell \u001b[0;32mIn[1], line 9\u001b[0m, in \u001b[0;36mload_results\u001b[0;34m(file_path)\u001b[0m\n\u001b[1;32m      7\u001b[0m \u001b[38;5;28;01mdef\u001b[39;00m \u001b[38;5;21mload_results\u001b[39m(file_path):\n\u001b[1;32m      8\u001b[0m \u001b[38;5;250m    \u001b[39m\u001b[38;5;124;03m\"\"\"Load results from a pickle file.\"\"\"\u001b[39;00m\n\u001b[0;32m----> 9\u001b[0m     \u001b[38;5;28;01mwith\u001b[39;00m \u001b[38;5;28;43mopen\u001b[39;49m\u001b[43m(\u001b[49m\u001b[43mfile_path\u001b[49m\u001b[43m,\u001b[49m\u001b[43m \u001b[49m\u001b[38;5;124;43m'\u001b[39;49m\u001b[38;5;124;43mrb\u001b[39;49m\u001b[38;5;124;43m'\u001b[39;49m\u001b[43m)\u001b[49m \u001b[38;5;28;01mas\u001b[39;00m f:\n\u001b[1;32m     10\u001b[0m         results \u001b[38;5;241m=\u001b[39m pickle\u001b[38;5;241m.\u001b[39mload(f)\n\u001b[1;32m     11\u001b[0m     \u001b[38;5;28;01mreturn\u001b[39;00m results\n",
      "File \u001b[0;32m/scratch/jl10897/miniconda3/envs/Auto_R/lib/python3.10/site-packages/IPython/core/interactiveshell.py:317\u001b[0m, in \u001b[0;36m_modified_open\u001b[0;34m(file, *args, **kwargs)\u001b[0m\n\u001b[1;32m    315\u001b[0m \u001b[38;5;129m@functools\u001b[39m\u001b[38;5;241m.\u001b[39mwraps(io_open)\n\u001b[1;32m    316\u001b[0m \u001b[38;5;28;01mdef\u001b[39;00m \u001b[38;5;21m_modified_open\u001b[39m(file, \u001b[38;5;241m*\u001b[39margs, \u001b[38;5;241m*\u001b[39m\u001b[38;5;241m*\u001b[39mkwargs):\n\u001b[0;32m--> 317\u001b[0m     \u001b[38;5;28;01mif\u001b[39;00m \u001b[43mfile\u001b[49m\u001b[43m \u001b[49m\u001b[38;5;129;43;01min\u001b[39;49;00m\u001b[43m \u001b[49m\u001b[43m{\u001b[49m\u001b[38;5;241;43m0\u001b[39;49m\u001b[43m,\u001b[49m\u001b[43m \u001b[49m\u001b[38;5;241;43m1\u001b[39;49m\u001b[43m,\u001b[49m\u001b[43m \u001b[49m\u001b[38;5;241;43m2\u001b[39;49m\u001b[43m}\u001b[49m:\n\u001b[1;32m    318\u001b[0m         \u001b[38;5;28;01mraise\u001b[39;00m \u001b[38;5;167;01mValueError\u001b[39;00m(\n\u001b[1;32m    319\u001b[0m             \u001b[38;5;124mf\u001b[39m\u001b[38;5;124m\"\u001b[39m\u001b[38;5;124mIPython won\u001b[39m\u001b[38;5;124m'\u001b[39m\u001b[38;5;124mt let you open fd=\u001b[39m\u001b[38;5;132;01m{\u001b[39;00mfile\u001b[38;5;132;01m}\u001b[39;00m\u001b[38;5;124m by default \u001b[39m\u001b[38;5;124m\"\u001b[39m\n\u001b[1;32m    320\u001b[0m             \u001b[38;5;124m\"\u001b[39m\u001b[38;5;124mas it is likely to crash IPython. If you know what you are doing, \u001b[39m\u001b[38;5;124m\"\u001b[39m\n\u001b[1;32m    321\u001b[0m             \u001b[38;5;124m\"\u001b[39m\u001b[38;5;124myou can use builtins\u001b[39m\u001b[38;5;124m'\u001b[39m\u001b[38;5;124m open.\u001b[39m\u001b[38;5;124m\"\u001b[39m\n\u001b[1;32m    322\u001b[0m         )\n\u001b[1;32m    324\u001b[0m     \u001b[38;5;28;01mreturn\u001b[39;00m io_open(file, \u001b[38;5;241m*\u001b[39margs, \u001b[38;5;241m*\u001b[39m\u001b[38;5;241m*\u001b[39mkwargs)\n",
      "\u001b[0;31mTypeError\u001b[0m: unhashable type: 'dict'"
     ]
    }
   ],
   "source": [
    "# analysis.ipynb\n",
    "\n",
    "import pickle\n",
    "import os\n",
    "import pandas as pd\n",
    "\n",
    "def load_results(file_path):\n",
    "    \"\"\"Load results from a pickle file.\"\"\"\n",
    "    with open(file_path, 'rb') as f:\n",
    "        results = pickle.load(f)\n",
    "    return results\n",
    "\n",
    "# Define the base output directory\n",
    "base_output_dir = '/scratch/jl10897/multimodal_image_registration/output'\n",
    "\n",
    "\n",
    "\n"
   ]
  },
  {
   "cell_type": "code",
   "execution_count": null,
   "metadata": {},
   "outputs": [],
   "source": [
    "results = load_results(base_output_dir)"
   ]
  },
  {
   "cell_type": "code",
   "execution_count": 3,
   "metadata": {},
   "outputs": [],
   "source": [
    "def analyze_results(base_output_dir):\n",
    "    \"\"\"Analyze results from all processed files, handling empty folders.\"\"\"\n",
    "    # Get all subdirectories in the base output directory\n",
    "    subdirectories = [os.path.join(base_output_dir, f) for f in os.listdir(base_output_dir) if os.path.isdir(os.path.join(base_output_dir, f))]\n",
    "    \n",
    "    all_results = []\n",
    "    for subdirectory in subdirectories:\n",
    "        # Check if the subdirectory contains a 'results.pkl' file\n",
    "        result_file = os.path.join(subdirectory, 'results.pkl')\n",
    "        if os.path.exists(result_file):\n",
    "            all_results.append(result_file)\n",
    "    \n",
    "    processed_results = []  # New list to store processed result dictionaries\n",
    "    for result_file in all_results:\n",
    "        results = load_results(result_file)\n",
    "        num_pairs = results.get('num_pairs', 0)\n",
    "        transformation_params = results.get('transformation_params', {})\n",
    "        \n",
    "        # Collecting relevant data\n",
    "        processed_results.append({  # Changed from all_results to processed_results\n",
    "            'file': result_file,\n",
    "            'num_pairs': num_pairs,\n",
    "            'scale_factors': transformation_params.get('scale_factors', []),\n",
    "            'total_R': transformation_params.get('total_R', None),\n",
    "            'total_shift': transformation_params.get('total_shift', None),\n",
    "            'total_scale': transformation_params.get('total_scale', None)\n",
    "        })\n",
    "    \n",
    "    # Convert to DataFrame for better analysis\n",
    "    results_df = pd.DataFrame(processed_results)  # Changed from all_results to processed_results\n",
    "    return results_df"
   ]
  },
  {
   "cell_type": "code",
   "execution_count": 5,
   "metadata": {},
   "outputs": [],
   "source": [
    "results_df = analyze_results(base_output_dir)\n",
    "# Display the results\n",
    "print(results_df)"
   ]
  },
  {
   "cell_type": "code",
   "execution_count": null,
   "metadata": {},
   "outputs": [],
   "source": []
  }
 ],
 "metadata": {
  "kernelspec": {
   "display_name": "Auto_R",
   "language": "python",
   "name": "python3"
  },
  "language_info": {
   "codemirror_mode": {
    "name": "ipython",
    "version": 3
   },
   "file_extension": ".py",
   "mimetype": "text/x-python",
   "name": "python",
   "nbconvert_exporter": "python",
   "pygments_lexer": "ipython3",
   "version": "3.10.15"
  }
 },
 "nbformat": 4,
 "nbformat_minor": 2
}
