{
 "cells": [
  {
   "cell_type": "markdown",
   "metadata": {},
   "source": [
    "### 统计datasets目录下所有.pkl文件中的细胞数量"
   ]
  },
  {
   "cell_type": "code",
   "execution_count": 8,
   "metadata": {},
   "outputs": [
    {
     "name": "stdout",
     "output_type": "stream",
     "text": [
      "Total number of files in the directory: 92\n",
      "Total number of files in the directory: 92\n"
     ]
    }
   ],
   "source": [
    "import os\n",
    "\n",
    "# Count the total number of files in the directory\n",
    "total_files = sum(len(files) for _, _, files in os.walk('/scratch/jl10897/multimodal_image_registration/datasets'))\n",
    "\n",
    "total_files_need = sum(len(files) for _, _, files in os.walk('/scratch/th3129/shared/registration'))\n",
    "\n",
    "print(f'Total number of files in the directory: {total_files}')\n",
    "print(f'Total number of files in the directory: {total_files_need}')\n"
   ]
  },
  {
   "cell_type": "code",
   "execution_count": null,
   "metadata": {},
   "outputs": [],
   "source": [
    "import os\n",
    "import pickle\n",
    "\n",
    "def summarize_pickle_files(dataset_path):\n",
    "    \"\"\"Summarize the number of cells in each pickle file in the specified directory.\"\"\"\n",
    "    summary = {}\n",
    "    \n",
    "    # List all files in the dataset directory\n",
    "    for filename in os.listdir(dataset_path):\n",
    "        if filename.endswith('.pkl'):  # Check for pickle files\n",
    "            file_path = os.path.join(dataset_path, filename)\n",
    "            with open(file_path, 'rb') as f:\n",
    "                data = pickle.load(f)\n",
    "                \n",
    "                # Assuming 'cells' is a key in the loaded data\n",
    "                if 'cells' in data:\n",
    "                    num_cells = len(data['cells'])\n",
    "                    summary[filename] = num_cells\n",
    "                else:\n",
    "                    summary[filename] = 0  # No cells found\n",
    "    \n",
    "    return summary\n",
    "\n",
    "# Usage\n",
    "dataset_path = '/scratch/jl10897/multimodal_image_registration/datasets'\n",
    "cell_summary = summarize_pickle_files(dataset_path)\n",
    "print(cell_summary)"
   ]
  }
 ],
 "metadata": {
  "kernelspec": {
   "display_name": "Auto_R",
   "language": "python",
   "name": "python3"
  },
  "language_info": {
   "codemirror_mode": {
    "name": "ipython",
    "version": 3
   },
   "file_extension": ".py",
   "mimetype": "text/x-python",
   "name": "python",
   "nbconvert_exporter": "python",
   "pygments_lexer": "ipython3",
   "version": "3.10.15"
  }
 },
 "nbformat": 4,
 "nbformat_minor": 2
}
