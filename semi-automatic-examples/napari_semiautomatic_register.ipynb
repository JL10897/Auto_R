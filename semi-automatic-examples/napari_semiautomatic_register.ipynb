{
 "cells": [
  {
   "cell_type": "code",
   "execution_count": 2,
   "id": "9097f11c",
   "metadata": {},
   "outputs": [
    {
     "name": "stdout",
     "output_type": "stream",
     "text": [
      "100123\n"
     ]
    }
   ],
   "source": [
    "from datetime import date\n",
    "import tifffile\n",
    "import napari\n",
    "import os,glob\n",
    "import pprint\n",
    "import numpy as np\n",
    "import pickle\n",
    "import matplotlib.pyplot as plt\n",
    "np.set_printoptions(suppress=True)\n",
    "import scipy.ndimage as ndi\n",
    "# from skimage.transform import warp\n",
    "\n",
    "\n",
    "from datetime import date\n",
    "today = date.today()\n",
    "todaystamp = today.strftime(\"%m%d%y\")\n",
    "print(todaystamp)\n",
    "\n",
    "\n",
    "def wahba(X,Y):\n",
    "    ''' 3d version'''\n",
    "    X0=X-np.mean(X,axis=0)    \n",
    "    Y0=Y-np.mean(Y,axis=0)    \n",
    "    U, _, Vt = np.linalg.svd(X0.T@Y0)\n",
    "    V = Vt.T\n",
    "    M = np.eye(3)\n",
    "    M[-1,:] = np.array((0,0,np.linalg.det(U)*np.linalg.det(V)))\n",
    "    R = U@M@V.T\n",
    "    T = np.mean(Y-X@R, axis = 0)\n",
    "    return(np.r_[R,T[None,:]])  # return 4x3 matrix (to transform from first input to second inpupt)"
   ]
  },
  {
   "cell_type": "markdown",
   "id": "a72d0af2",
   "metadata": {},
   "source": [
    "# load data"
   ]
  },
  {
   "cell_type": "code",
   "execution_count": 25,
   "id": "d92c467d",
   "metadata": {},
   "outputs": [],
   "source": [
    "invivo_f = '/Users/shuonan/Dropbox/project/multimodal_2023/xinxindata/G128_data/G128_invivos.pkl'\n",
    "exvivo_f = '/Users/shuonan/Dropbox/project/multimodal_2023/xinxindata/G128_data/G128_exvivos.pkl'\n",
    "\n",
    "invivo = pickle.load(open(invivo_f,'rb'))\n",
    " #144um, because each z is 1.5 um!"
   ]
  },
  {
   "cell_type": "code",
   "execution_count": 31,
   "id": "41e51a7d",
   "metadata": {},
   "outputs": [
    {
     "data": {
      "text/plain": [
       "((2, 72, 1147, 1464), (2, 222, 768, 1035))"
      ]
     },
     "execution_count": 31,
     "metadata": {},
     "output_type": "execute_result"
    }
   ],
   "source": [
    "exvivo.shape, invivo.shape"
   ]
  },
  {
   "cell_type": "markdown",
   "id": "2bcebcd3",
   "metadata": {},
   "source": [
    "# specify save directory "
   ]
  },
  {
   "cell_type": "code",
   "execution_count": 32,
   "id": "6aaaf477",
   "metadata": {},
   "outputs": [],
   "source": [
    "base_dir='/Users/shuonan/Downloads/'"
   ]
  },
  {
   "cell_type": "markdown",
   "id": "3a114ddf",
   "metadata": {},
   "source": [
    "# run "
   ]
  },
  {
   "cell_type": "code",
   "execution_count": 33,
   "id": "0fc27189",
   "metadata": {},
   "outputs": [
    {
     "name": "stdout",
     "output_type": "stream",
     "text": [
      "applying rigid..\n",
      "done transform!\n"
     ]
    }
   ],
   "source": [
    "channel_name = [\"BV\", 'tomatos']\n",
    "C = len(channel_name)\n",
    "\n",
    "features = {'label': np.empty(0, dtype=int)}\n",
    "all_transform = []\n",
    "# foo_l = []\n",
    "# foo_l.append(cent_ex)\n",
    "\n",
    "viewer = napari.view_image(invivo,channel_axis=0,name=[f'invivo {c}' for c in channel_name],\n",
    "                           colormap='red', visible = [True,False],)\n",
    "ex_layer = viewer.add_image(exvivo,channel_axis=0,name=[f'exvivo {c}' for c in channel_name],\n",
    "                            colormap=\"green\", visible = [True,False],)\n",
    "pl_in = viewer.add_points(size=10, edge_width=1, edge_color='red',face_color='transparent',name=f\"invivo points\", text='label', features=features,ndim=3,out_of_slice_display=True)\n",
    "\n",
    "@pl_in.events.data.connect\n",
    "def update_feature_default_invivo():  \n",
    "    global points_layer\n",
    "    no_of_points = len(pl_in.data)\n",
    "    pl_in.feature_defaults['label'] = no_of_points + 1\n",
    "    pl_in.properties[\"label\"][0:no_of_points] = range(1, no_of_points+1)\n",
    "    pl_in.text.values[0:no_of_points] = [str(i) for i in range(1, no_of_points+1)]\n",
    "    pl_in.text.color = 'red'\n",
    "    pl_in.text.translation = np.array([-10, 0])\n",
    "update_feature_default_invivo()\n",
    "pl_in.mode = 'add'\n",
    "\n",
    "pl_ex = viewer.add_points(\n",
    "    size=10, edge_width=1, edge_color='green',face_color='transparent',name=f\"exvivo points\", text='label', features=features,ndim=3,out_of_slice_display=True)\n",
    "@pl_ex.events.data.connect\n",
    "def update_feature_default_exvivo():  \n",
    "    global points_layer\n",
    "    no_of_points = len(pl_ex.data)\n",
    "    pl_ex.feature_defaults['label'] = no_of_points + 1\n",
    "    pl_ex.properties[\"label\"][0:no_of_points] = range(1, no_of_points+1)\n",
    "    pl_ex.text.values[0:no_of_points] = [str(i) for i in range(1, no_of_points+1)]\n",
    "    pl_ex.text.color = 'green'\n",
    "    pl_ex.text.translation = np.array([-10, 0])\n",
    "update_feature_default_exvivo()\n",
    "pl_ex.mode = 'add'\n",
    "\n",
    "\n",
    "@viewer.bind_key('s', overwrite = True)\n",
    "def scale(viewer):  \n",
    "    print('learning scale..')\n",
    "    m_invivo = viewer.layers[f\"invivo points\"].data\n",
    "    m_exvivo = viewer.layers[f\"exvivo points\"].data \n",
    "    assert(len(m_invivo)==len(m_exvivo))    \n",
    "    s_invivo = np.sqrt(np.sum((m_invivo-np.mean(m_invivo,0))**2)/len(m_invivo))\n",
    "    s_exvivo = np.sqrt(np.sum((m_exvivo-np.mean(m_exvivo,0))**2)/len(m_exvivo))\n",
    "    scl = s_invivo/s_exvivo\n",
    "    print(f'scale difference: {scl}')\n",
    "    m_exvivo_new = scl*m_exvivo    \n",
    "#     foo_l[-1] = scl*foo_l[-1]\n",
    "    exvivo_scaled_small = np.array([ndi.zoom(ex_layer[c].data, scl, order=3) for c in range(C)])    \n",
    "    all_transform.append(dict(scale=scl))\n",
    "    for c in range(C):\n",
    "        ex_layer[c].data = exvivo_scaled_small[c]\n",
    "    viewer.layers[\"exvivo points\"].data = m_exvivo_new    \n",
    "    \n",
    "\n",
    "    \n",
    "@viewer.bind_key('t', overwrite = True)\n",
    "def transform(viewer):    \n",
    "    viewer.update_console(locals())\n",
    "    print('applying rigid..')\n",
    "    m_invivo = viewer.layers[f\"invivo points\"].data\n",
    "    m_exvivo = viewer.layers[f\"exvivo points\"].data \n",
    "    assert(len(m_invivo)==len(m_exvivo))\n",
    "    bhat = wahba(m_exvivo,m_invivo)\n",
    "    offset = -(bhat[:3,:3])@bhat[-1]\n",
    "    exvivo_affined = np.array([ndi.affine_transform(ex_layer[c].data, bhat[:3,:3],\n",
    "                                                    output_shape = viewer.layers['invivo tomatos'].data.shape,offset = offset, order=3) for c in range(C)])\n",
    "    foo = np.c_[m_exvivo, np.ones((m_exvivo.shape[0],1))]   #Nx4\n",
    "    m_exvivo_new = foo@bhat\n",
    "#     foo_l[-1] = np.c_[foo_l[-1], np.ones((foo_l[-1].shape[0],1))]@bhat\n",
    "    all_transform.append(dict(bhat=bhat))\n",
    "    for c in range(C):\n",
    "        ex_layer[c].data = exvivo_affined[c]\n",
    "    viewer.layers[\"exvivo points\"].data = m_exvivo_new\n",
    "    print(\"done transform!\")\n",
    "    \n",
    "\n",
    "    \n",
    "\n",
    "    \n",
    "@viewer.bind_key('d', overwrite = True)\n",
    "def deform(viewer):    \n",
    "    print('applying deformable..')\n",
    "    ksz = 200\n",
    "    m_invivo = viewer.layers[f\"matched section {section_id}\"].data\n",
    "    m_exvivo = viewer.layers[f\"matched section {section_id+1}\"].data\n",
    "    assert(len(m_invivo)==len(m_exvivo))    \n",
    "    shift = m_invivo-m_exvivo   # so the newcoords = old+shift --> vecfield will have how much shift needed to apply to the old coords\n",
    "    vec_field = np.zeros(exvivo_layer[0].data.shape + (2,))  # M1,M2,2\n",
    "    for p,loc in enumerate(m_exvivo):\n",
    "        vec_field[int(loc[0]),int(loc[1])] = shift[p]\n",
    "    for c in range(2):\n",
    "        vec_field[...,c] = ndi.gaussian_filter(vec_field[...,c], ksz)\n",
    "    A = np.zeros_like(m_exvivo)\n",
    "    for p,loc in enumerate(m_exvivo):\n",
    "        A[p] = vec_field[int(loc[0]),int(loc[1])]\n",
    "    diag_step,_,_,_ = np.linalg.lstsq(A,shift,rcond=None)\n",
    "    step = np.diag(diag_step)\n",
    "    vec_field_total =vec_field*step;  # element wise. \n",
    "    all_transform.append(dict(vec_field_total=vec_field_total))\n",
    "    mapx_base, mapy_base = np.meshgrid(np.arange(exvivo_layer[0].data.shape[0]),np.arange(exvivo_layer[0].data.shape[1]), indexing='ij')\n",
    "    mapx=mapx_base-vec_field_total[:,:,0]\n",
    "    mapy=mapy_base-vec_field_total[:,:,1]\n",
    "    for c in range(C):\n",
    "        img_de = warp(exvivo_layer[c].data,np.array((mapx,mapy)), order = 3)            \n",
    "        exvivo_layer[c].data = img_de    \n",
    "    \n",
    "    m_exvivo_new = np.zeros_like(m_exvivo)  # POINTS\n",
    "    for p,loc in enumerate(m_exvivo):\n",
    "        new_s = vec_field_total[int(loc[0]),int(loc[1])]\n",
    "        m_exvivo_new[p] = loc+new_s\n",
    "    viewer.layers[f\"matched section {section_id+1}\"].data = m_exvivo_new\n",
    "        \n",
    "# @viewer.bind_key('f', overwrite=True)\n",
    "# def correct_coords(viewer):\n",
    "#     ex_roi_cent = foo_l[-1]\n",
    "#     in_roi_cent = cent_in\n",
    "#     dst_ex = distance.cdist(foo_l[-1], viewer.layers['exvivo points'].data)\n",
    "#     dst_in = distance.cdist(cent_in, viewer.layers['invivo points'].data)\n",
    "#     m_ex_label = np.argmin(dst_ex,0)\n",
    "#     m_in_label = np.argmin(dst_in,0)\n",
    "#     m_ex_loc_corrected = foo_l[-1][m_ex_label]\n",
    "#     m_in_loc_corrected = cent_in[m_in_label]\n",
    "#     viewer.layers['exvivo points'].data = m_ex_loc_corrected\n",
    "#     viewer.layers['invivo points'].data = m_in_loc_corrected\n",
    "#     print('corrected the exvivo and invivo selected points coordinates!')\n",
    "    \n",
    "    \n",
    "@viewer.bind_key('c',overwrite = True)\n",
    "def clear_selected(viewer):        \n",
    "    viewer.layers[f\"invivo points\"].data = np.empty((0, 3))\n",
    "    viewer.layers[f\"exvivo points\"].data = np.empty((0, 3))\n",
    "\n",
    "@viewer.bind_key('q', overwrite = True)\n",
    "def save_rez(viewer):     \n",
    "    out_dict = dict()\n",
    "    out_dict['transformed']=np.array([ex_layer[c].data for c in range(C)] )\n",
    "    out_dict['transformations']=all_transform    \n",
    "    \n",
    "    m_invivo = viewer.layers[f\"invivo points\"].data\n",
    "    m_exvivo = viewer.layers[f\"exvivo points\"].data \n",
    "    assert(len(m_invivo)==len(m_exvivo))\n",
    "    out_dict['pcd_invivo'] = m_invivo\n",
    "    out_dict['pcd_exvivo'] = m_exvivo\n",
    "    pickle.dump(out_dict, open(base_dir + f'transformed_{todaystamp}.pkl','wb'))\n",
    "    print(\"saved the results!\")\n",
    "    "
   ]
  },
  {
   "cell_type": "code",
   "execution_count": null,
   "id": "7ac053ad",
   "metadata": {},
   "outputs": [],
   "source": []
  },
  {
   "cell_type": "code",
   "execution_count": null,
   "id": "4f030de5",
   "metadata": {},
   "outputs": [],
   "source": []
  },
  {
   "cell_type": "code",
   "execution_count": null,
   "id": "5f7d5fad",
   "metadata": {},
   "outputs": [],
   "source": []
  },
  {
   "cell_type": "code",
   "execution_count": null,
   "id": "d6d18e7e",
   "metadata": {},
   "outputs": [],
   "source": []
  },
  {
   "cell_type": "code",
   "execution_count": null,
   "id": "1b72be3f",
   "metadata": {},
   "outputs": [],
   "source": []
  },
  {
   "cell_type": "code",
   "execution_count": null,
   "id": "f4f4920e",
   "metadata": {},
   "outputs": [],
   "source": []
  },
  {
   "cell_type": "code",
   "execution_count": null,
   "id": "fd3362c4",
   "metadata": {},
   "outputs": [],
   "source": []
  }
 ],
 "metadata": {
  "kernelspec": {
   "display_name": "cv2",
   "language": "python",
   "name": "cv2"
  },
  "language_info": {
   "codemirror_mode": {
    "name": "ipython",
    "version": 3
   },
   "file_extension": ".py",
   "mimetype": "text/x-python",
   "name": "python",
   "nbconvert_exporter": "python",
   "pygments_lexer": "ipython3",
   "version": "3.10.4"
  }
 },
 "nbformat": 4,
 "nbformat_minor": 5
}
