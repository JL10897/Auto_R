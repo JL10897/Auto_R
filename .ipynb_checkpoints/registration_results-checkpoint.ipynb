{
 "cells": [
  {
   "cell_type": "markdown",
   "id": "b6a3d6b0",
   "metadata": {},
   "source": [
    "# what does this notebook do:\n",
    "1. load the maximum-rotation-set results.\n",
    "2. run neighboring cell matching\n",
    "3. get the final transformation matrix. \n",
    "4. run iterative non-rigid transformation\n",
    "5. count the number of matching cells. "
   ]
  },
  {
   "cell_type": "code",
   "execution_count": null,
   "id": "fed6ca2b",
   "metadata": {},
   "outputs": [],
   "source": [
    "import pickle\n",
    "import numpy as np\n",
    "import time,sys,glob,os\n",
    "import pandas as pd\n",
    "import scipy.ndimage as ndi\n",
    "import cc3d\n",
    "import cv2\n",
    "import open3d as o3d\n",
    "\n",
    "from skimage import color, morphology, measure\n",
    "from skimage.transform import downscale_local_mean\n",
    "from skimage.registration import phase_cross_correlation\n",
    "\n",
    "from scipy.stats import zscore\n",
    "from scipy import sparse\n",
    "\n",
    "import matplotlib.pyplot as plt\n",
    "from matplotlib.colors import ListedColormap\n",
    "\n",
    "from cellregister import *\n",
    "from iterive_non_rigid import *\n",
    "\n",
    "%load_ext autoreload\n",
    "%autoreload 2"
   ]
  },
  {
   "cell_type": "code",
   "execution_count": null,
   "id": "00ca0580",
   "metadata": {},
   "outputs": [],
   "source": []
  },
  {
   "cell_type": "code",
   "execution_count": null,
   "id": "9fe6956b",
   "metadata": {},
   "outputs": [],
   "source": [
    "bhat,X_p,Y_p = get_exact_matching_from_MRS(max_rot_set_f, im_cent_zstack,im_cent_nd2, appearance_matrix,final_thresh)"
   ]
  },
  {
   "cell_type": "code",
   "execution_count": null,
   "id": "c5a1e811",
   "metadata": {},
   "outputs": [],
   "source": []
  },
  {
   "cell_type": "code",
   "execution_count": null,
   "id": "18aab081",
   "metadata": {},
   "outputs": [],
   "source": []
  }
 ],
 "metadata": {
  "kernelspec": {
   "display_name": "Python 3",
   "language": "python",
   "name": "python3"
  },
  "language_info": {
   "codemirror_mode": {
    "name": "ipython",
    "version": 3
   },
   "file_extension": ".py",
   "mimetype": "text/x-python",
   "name": "python",
   "nbconvert_exporter": "python",
   "pygments_lexer": "ipython3",
   "version": "3.8.8"
  }
 },
 "nbformat": 4,
 "nbformat_minor": 5
}
